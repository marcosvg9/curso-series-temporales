{
  "nbformat": 4,
  "nbformat_minor": 0,
  "metadata": {
    "kernelspec": {
      "display_name": "Python 3",
      "language": "python",
      "name": "python3"
    },
    "language_info": {
      "codemirror_mode": {
        "name": "ipython",
        "version": 3
      },
      "file_extension": ".py",
      "mimetype": "text/x-python",
      "name": "python",
      "nbconvert_exporter": "python",
      "pygments_lexer": "ipython3",
      "version": "3.6.7"
    },
    "colab": {
      "name": "14_GARCH.ipynb",
      "provenance": []
    }
  },
  "cells": [
    {
      "cell_type": "markdown",
      "metadata": {
        "id": "H6ky1yBPGUtP",
        "colab_type": "text"
      },
      "source": [
        "## Importing the relevant packages"
      ]
    },
    {
      "cell_type": "code",
      "metadata": {
        "id": "0fadmMxSGUtQ",
        "colab_type": "code",
        "colab": {
          "base_uri": "https://localhost:8080/",
          "height": 301
        },
        "outputId": "2599e2c4-6b4b-4d5b-ff44-7874d11bb1b1"
      },
      "source": [
        "import pandas as pd\n",
        "import numpy as np\n",
        "import matplotlib.pyplot as plt\n",
        "import statsmodels.graphics.tsaplots as sgt\n",
        "import statsmodels.tsa.stattools as sts\n",
        "from statsmodels.tsa.arima_model import ARIMA\n",
        "from scipy.stats.distributions import chi2 \n",
        "!pip install arch\n",
        "from arch import arch_model\n",
        "from math import sqrt\n",
        "import seaborn as sns\n",
        "sns.set()"
      ],
      "execution_count": 2,
      "outputs": [
        {
          "output_type": "stream",
          "text": [
            "Collecting arch\n",
            "\u001b[?25l  Downloading https://files.pythonhosted.org/packages/52/80/d3c931ca4e432d32618315b65782c51d665e6fd078f92827421bb16517eb/arch-4.14-cp36-cp36m-manylinux1_x86_64.whl (805kB)\n",
            "\r\u001b[K     |▍                               | 10kB 23.4MB/s eta 0:00:01\r\u001b[K     |▉                               | 20kB 3.0MB/s eta 0:00:01\r\u001b[K     |█▏                              | 30kB 4.4MB/s eta 0:00:01\r\u001b[K     |█▋                              | 40kB 2.9MB/s eta 0:00:01\r\u001b[K     |██                              | 51kB 3.6MB/s eta 0:00:01\r\u001b[K     |██▍                             | 61kB 4.2MB/s eta 0:00:01\r\u001b[K     |██▉                             | 71kB 4.9MB/s eta 0:00:01\r\u001b[K     |███▎                            | 81kB 3.8MB/s eta 0:00:01\r\u001b[K     |███▋                            | 92kB 4.2MB/s eta 0:00:01\r\u001b[K     |████                            | 102kB 4.7MB/s eta 0:00:01\r\u001b[K     |████▌                           | 112kB 4.7MB/s eta 0:00:01\r\u001b[K     |████▉                           | 122kB 4.7MB/s eta 0:00:01\r\u001b[K     |█████▎                          | 133kB 4.7MB/s eta 0:00:01\r\u001b[K     |█████▊                          | 143kB 4.7MB/s eta 0:00:01\r\u001b[K     |██████                          | 153kB 4.7MB/s eta 0:00:01\r\u001b[K     |██████▌                         | 163kB 4.7MB/s eta 0:00:01\r\u001b[K     |███████                         | 174kB 4.7MB/s eta 0:00:01\r\u001b[K     |███████▎                        | 184kB 4.7MB/s eta 0:00:01\r\u001b[K     |███████▊                        | 194kB 4.7MB/s eta 0:00:01\r\u001b[K     |████████▏                       | 204kB 4.7MB/s eta 0:00:01\r\u001b[K     |████████▌                       | 215kB 4.7MB/s eta 0:00:01\r\u001b[K     |█████████                       | 225kB 4.7MB/s eta 0:00:01\r\u001b[K     |█████████▍                      | 235kB 4.7MB/s eta 0:00:01\r\u001b[K     |█████████▊                      | 245kB 4.7MB/s eta 0:00:01\r\u001b[K     |██████████▏                     | 256kB 4.7MB/s eta 0:00:01\r\u001b[K     |██████████▋                     | 266kB 4.7MB/s eta 0:00:01\r\u001b[K     |███████████                     | 276kB 4.7MB/s eta 0:00:01\r\u001b[K     |███████████▍                    | 286kB 4.7MB/s eta 0:00:01\r\u001b[K     |███████████▉                    | 296kB 4.7MB/s eta 0:00:01\r\u001b[K     |████████████▏                   | 307kB 4.7MB/s eta 0:00:01\r\u001b[K     |████████████▋                   | 317kB 4.7MB/s eta 0:00:01\r\u001b[K     |█████████████                   | 327kB 4.7MB/s eta 0:00:01\r\u001b[K     |█████████████▍                  | 337kB 4.7MB/s eta 0:00:01\r\u001b[K     |█████████████▉                  | 348kB 4.7MB/s eta 0:00:01\r\u001b[K     |██████████████▎                 | 358kB 4.7MB/s eta 0:00:01\r\u001b[K     |██████████████▋                 | 368kB 4.7MB/s eta 0:00:01\r\u001b[K     |███████████████                 | 378kB 4.7MB/s eta 0:00:01\r\u001b[K     |███████████████▌                | 389kB 4.7MB/s eta 0:00:01\r\u001b[K     |███████████████▉                | 399kB 4.7MB/s eta 0:00:01\r\u001b[K     |████████████████▎               | 409kB 4.7MB/s eta 0:00:01\r\u001b[K     |████████████████▊               | 419kB 4.7MB/s eta 0:00:01\r\u001b[K     |█████████████████               | 430kB 4.7MB/s eta 0:00:01\r\u001b[K     |█████████████████▌              | 440kB 4.7MB/s eta 0:00:01\r\u001b[K     |██████████████████              | 450kB 4.7MB/s eta 0:00:01\r\u001b[K     |██████████████████▎             | 460kB 4.7MB/s eta 0:00:01\r\u001b[K     |██████████████████▊             | 471kB 4.7MB/s eta 0:00:01\r\u001b[K     |███████████████████▏            | 481kB 4.7MB/s eta 0:00:01\r\u001b[K     |███████████████████▌            | 491kB 4.7MB/s eta 0:00:01\r\u001b[K     |████████████████████            | 501kB 4.7MB/s eta 0:00:01\r\u001b[K     |████████████████████▎           | 512kB 4.7MB/s eta 0:00:01\r\u001b[K     |████████████████████▊           | 522kB 4.7MB/s eta 0:00:01\r\u001b[K     |█████████████████████▏          | 532kB 4.7MB/s eta 0:00:01\r\u001b[K     |█████████████████████▌          | 542kB 4.7MB/s eta 0:00:01\r\u001b[K     |██████████████████████          | 552kB 4.7MB/s eta 0:00:01\r\u001b[K     |██████████████████████▍         | 563kB 4.7MB/s eta 0:00:01\r\u001b[K     |██████████████████████▊         | 573kB 4.7MB/s eta 0:00:01\r\u001b[K     |███████████████████████▏        | 583kB 4.7MB/s eta 0:00:01\r\u001b[K     |███████████████████████▋        | 593kB 4.7MB/s eta 0:00:01\r\u001b[K     |████████████████████████        | 604kB 4.7MB/s eta 0:00:01\r\u001b[K     |████████████████████████▍       | 614kB 4.7MB/s eta 0:00:01\r\u001b[K     |████████████████████████▉       | 624kB 4.7MB/s eta 0:00:01\r\u001b[K     |█████████████████████████▏      | 634kB 4.7MB/s eta 0:00:01\r\u001b[K     |█████████████████████████▋      | 645kB 4.7MB/s eta 0:00:01\r\u001b[K     |██████████████████████████      | 655kB 4.7MB/s eta 0:00:01\r\u001b[K     |██████████████████████████▍     | 665kB 4.7MB/s eta 0:00:01\r\u001b[K     |██████████████████████████▉     | 675kB 4.7MB/s eta 0:00:01\r\u001b[K     |███████████████████████████▎    | 686kB 4.7MB/s eta 0:00:01\r\u001b[K     |███████████████████████████▋    | 696kB 4.7MB/s eta 0:00:01\r\u001b[K     |████████████████████████████    | 706kB 4.7MB/s eta 0:00:01\r\u001b[K     |████████████████████████████▌   | 716kB 4.7MB/s eta 0:00:01\r\u001b[K     |████████████████████████████▉   | 727kB 4.7MB/s eta 0:00:01\r\u001b[K     |█████████████████████████████▎  | 737kB 4.7MB/s eta 0:00:01\r\u001b[K     |█████████████████████████████▊  | 747kB 4.7MB/s eta 0:00:01\r\u001b[K     |██████████████████████████████  | 757kB 4.7MB/s eta 0:00:01\r\u001b[K     |██████████████████████████████▌ | 768kB 4.7MB/s eta 0:00:01\r\u001b[K     |███████████████████████████████ | 778kB 4.7MB/s eta 0:00:01\r\u001b[K     |███████████████████████████████▎| 788kB 4.7MB/s eta 0:00:01\r\u001b[K     |███████████████████████████████▊| 798kB 4.7MB/s eta 0:00:01\r\u001b[K     |████████████████████████████████| 808kB 4.7MB/s \n",
            "\u001b[?25hRequirement already satisfied: statsmodels>=0.9 in /usr/local/lib/python3.6/dist-packages (from arch) (0.10.2)\n",
            "Requirement already satisfied: numpy>=1.14 in /usr/local/lib/python3.6/dist-packages (from arch) (1.18.2)\n",
            "Requirement already satisfied: cython>=0.29.14 in /usr/local/lib/python3.6/dist-packages (from arch) (0.29.16)\n",
            "Collecting property-cached>=1.6.3\n",
            "  Downloading https://files.pythonhosted.org/packages/5c/6c/94d8e520b20a2502e508e1c558f338061cf409cbee78fd6a3a5c6ae812bd/property_cached-1.6.4-py2.py3-none-any.whl\n",
            "Requirement already satisfied: pandas>=0.23 in /usr/local/lib/python3.6/dist-packages (from arch) (1.0.3)\n",
            "Requirement already satisfied: scipy>=1.0.1 in /usr/local/lib/python3.6/dist-packages (from arch) (1.4.1)\n",
            "Requirement already satisfied: patsy>=0.4.0 in /usr/local/lib/python3.6/dist-packages (from statsmodels>=0.9->arch) (0.5.1)\n",
            "Requirement already satisfied: pytz>=2017.2 in /usr/local/lib/python3.6/dist-packages (from pandas>=0.23->arch) (2018.9)\n",
            "Requirement already satisfied: python-dateutil>=2.6.1 in /usr/local/lib/python3.6/dist-packages (from pandas>=0.23->arch) (2.8.1)\n",
            "Requirement already satisfied: six in /usr/local/lib/python3.6/dist-packages (from patsy>=0.4.0->statsmodels>=0.9->arch) (1.12.0)\n",
            "Installing collected packages: property-cached, arch\n",
            "Successfully installed arch-4.14 property-cached-1.6.4\n"
          ],
          "name": "stdout"
        }
      ]
    },
    {
      "cell_type": "markdown",
      "metadata": {
        "id": "TPV0OEOQGUtU",
        "colab_type": "text"
      },
      "source": [
        "## Importing the Data and Pre-processing "
      ]
    },
    {
      "cell_type": "code",
      "metadata": {
        "id": "HTZKgtRBGUtV",
        "colab_type": "code",
        "colab": {}
      },
      "source": [
        "raw_csv_data = pd.read_csv(\"Index2018.csv\") \n",
        "df_comp=raw_csv_data.copy()\n",
        "df_comp.date = pd.to_datetime(df_comp.date, dayfirst = True)\n",
        "df_comp.set_index(\"date\", inplace=True)\n",
        "df_comp=df_comp.asfreq('b')\n",
        "df_comp=df_comp.fillna(method='ffill')"
      ],
      "execution_count": 0,
      "outputs": []
    },
    {
      "cell_type": "code",
      "metadata": {
        "id": "rBc9mI_jGUtY",
        "colab_type": "code",
        "colab": {}
      },
      "source": [
        "df_comp['market_value']=df_comp.ftse"
      ],
      "execution_count": 0,
      "outputs": []
    },
    {
      "cell_type": "code",
      "metadata": {
        "id": "eYugtOXmGUta",
        "colab_type": "code",
        "colab": {}
      },
      "source": [
        "del df_comp['spx']\n",
        "del df_comp['dax']\n",
        "del df_comp['ftse']\n",
        "del df_comp['nikkei']\n",
        "size = int(len(df_comp)*0.8)\n",
        "df, df_test = df_comp.iloc[:size], df_comp.iloc[size:]"
      ],
      "execution_count": 0,
      "outputs": []
    },
    {
      "cell_type": "code",
      "metadata": {
        "id": "lViF6xhaGUtd",
        "colab_type": "code",
        "colab": {}
      },
      "source": [
        "import warnings\n",
        "warnings.filterwarnings(\"ignore\")"
      ],
      "execution_count": 0,
      "outputs": []
    },
    {
      "cell_type": "markdown",
      "metadata": {
        "id": "YbwYWw6vGUtf",
        "colab_type": "text"
      },
      "source": [
        " "
      ]
    },
    {
      "cell_type": "markdown",
      "metadata": {
        "id": "TB3Ph9XOGUtg",
        "colab_type": "text"
      },
      "source": [
        "## The LLR Test"
      ]
    },
    {
      "cell_type": "code",
      "metadata": {
        "id": "LILWlaIFGUth",
        "colab_type": "code",
        "colab": {}
      },
      "source": [
        "def LLR_test(mod_1, mod_2, DF = 1):\n",
        "    L1 = mod_1.llf\n",
        "    L2 = mod_2.llf\n",
        "    LR = (2*(L2-L1))    \n",
        "    p = chi2.sf(LR, DF).round(3)\n",
        "    return p"
      ],
      "execution_count": 0,
      "outputs": []
    },
    {
      "cell_type": "markdown",
      "metadata": {
        "id": "EMHXzlyqGUtk",
        "colab_type": "text"
      },
      "source": [
        "## Creating Returns"
      ]
    },
    {
      "cell_type": "code",
      "metadata": {
        "scrolled": true,
        "id": "kzs47GVQGUtk",
        "colab_type": "code",
        "colab": {}
      },
      "source": [
        "df['returns'] = df.market_value.pct_change(1)*100"
      ],
      "execution_count": 0,
      "outputs": []
    },
    {
      "cell_type": "markdown",
      "metadata": {
        "id": "hzQ-R0DUGUtn",
        "colab_type": "text"
      },
      "source": [
        "## The Simple GARCH Model"
      ]
    },
    {
      "cell_type": "code",
      "metadata": {
        "id": "_IKSfSqRGUtn",
        "colab_type": "code",
        "colab": {
          "base_uri": "https://localhost:8080/",
          "height": 534
        },
        "outputId": "dbfeee6e-7ae4-4782-8300-162de843e103"
      },
      "source": [
        "model_garch_1_1 = arch_model(df.returns[1:], mean = \"Constant\", vol = \"GARCH\", p = 1, q = 1)\n",
        "results_garch_1_1 = model_garch_1_1.fit(update_freq = 5)\n",
        "results_garch_1_1.summary()"
      ],
      "execution_count": 10,
      "outputs": [
        {
          "output_type": "stream",
          "text": [
            "Iteration:      5,   Func. Count:     39,   Neg. LLF: 6972.734736835859\n",
            "Iteration:     10,   Func. Count:     73,   Neg. LLF: 6970.088042271316\n",
            "Optimization terminated successfully.    (Exit mode 0)\n",
            "            Current function value: 6970.058366189893\n",
            "            Iterations: 13\n",
            "            Function evaluations: 91\n",
            "            Gradient evaluations: 13\n"
          ],
          "name": "stdout"
        },
        {
          "output_type": "execute_result",
          "data": {
            "text/html": [
              "<table class=\"simpletable\">\n",
              "<caption>Constant Mean - GARCH Model Results</caption>\n",
              "<tr>\n",
              "  <th>Dep. Variable:</th>       <td>returns</td>      <th>  R-squared:         </th>  <td>  -0.001</td> \n",
              "</tr>\n",
              "<tr>\n",
              "  <th>Mean Model:</th>       <td>Constant Mean</td>   <th>  Adj. R-squared:    </th>  <td>  -0.001</td> \n",
              "</tr>\n",
              "<tr>\n",
              "  <th>Vol Model:</th>            <td>GARCH</td>       <th>  Log-Likelihood:    </th> <td>  -6970.06</td>\n",
              "</tr>\n",
              "<tr>\n",
              "  <th>Distribution:</th>        <td>Normal</td>       <th>  AIC:               </th> <td>   13948.1</td>\n",
              "</tr>\n",
              "<tr>\n",
              "  <th>Method:</th>        <td>Maximum Likelihood</td> <th>  BIC:               </th> <td>   13974.2</td>\n",
              "</tr>\n",
              "<tr>\n",
              "  <th></th>                        <td></td>          <th>  No. Observations:  </th>    <td>5020</td>   \n",
              "</tr>\n",
              "<tr>\n",
              "  <th>Date:</th>           <td>Thu, Apr 23 2020</td>  <th>  Df Residuals:      </th>    <td>5016</td>   \n",
              "</tr>\n",
              "<tr>\n",
              "  <th>Time:</th>               <td>12:55:07</td>      <th>  Df Model:          </th>      <td>4</td>    \n",
              "</tr>\n",
              "</table>\n",
              "<table class=\"simpletable\">\n",
              "<caption>Mean Model</caption>\n",
              "<tr>\n",
              "   <td></td>     <th>coef</th>     <th>std err</th>      <th>t</th>       <th>P>|t|</th>     <th>95.0% Conf. Int.</th>   \n",
              "</tr>\n",
              "<tr>\n",
              "  <th>mu</th> <td>    0.0466</td> <td>1.183e-02</td> <td>    3.939</td> <td>8.187e-05</td> <td>[2.342e-02,6.981e-02]</td>\n",
              "</tr>\n",
              "</table>\n",
              "<table class=\"simpletable\">\n",
              "<caption>Volatility Model</caption>\n",
              "<tr>\n",
              "      <td></td>        <th>coef</th>     <th>std err</th>      <th>t</th>       <th>P>|t|</th>     <th>95.0% Conf. Int.</th>   \n",
              "</tr>\n",
              "<tr>\n",
              "  <th>omega</th>    <td>    0.0109</td> <td>3.004e-03</td> <td>    3.640</td> <td>2.724e-04</td> <td>[5.048e-03,1.682e-02]</td>\n",
              "</tr>\n",
              "<tr>\n",
              "  <th>alpha[1]</th> <td>    0.0835</td> <td>1.071e-02</td> <td>    7.794</td> <td>6.476e-15</td>  <td>[6.249e-02,  0.104]</td> \n",
              "</tr>\n",
              "<tr>\n",
              "  <th>beta[1]</th>  <td>    0.9089</td> <td>1.148e-02</td> <td>   79.168</td>   <td>0.000</td>     <td>[  0.886,  0.931]</td>  \n",
              "</tr>\n",
              "</table><br/><br/>Covariance estimator: robust"
            ],
            "text/plain": [
              "<class 'statsmodels.iolib.summary.Summary'>\n",
              "\"\"\"\n",
              "                     Constant Mean - GARCH Model Results                      \n",
              "==============================================================================\n",
              "Dep. Variable:                returns   R-squared:                      -0.001\n",
              "Mean Model:             Constant Mean   Adj. R-squared:                 -0.001\n",
              "Vol Model:                      GARCH   Log-Likelihood:               -6970.06\n",
              "Distribution:                  Normal   AIC:                           13948.1\n",
              "Method:            Maximum Likelihood   BIC:                           13974.2\n",
              "                                        No. Observations:                 5020\n",
              "Date:                Thu, Apr 23 2020   Df Residuals:                     5016\n",
              "Time:                        12:55:07   Df Model:                            4\n",
              "                                 Mean Model                                 \n",
              "============================================================================\n",
              "                 coef    std err          t      P>|t|      95.0% Conf. Int.\n",
              "----------------------------------------------------------------------------\n",
              "mu             0.0466  1.183e-02      3.939  8.187e-05 [2.342e-02,6.981e-02]\n",
              "                              Volatility Model                              \n",
              "============================================================================\n",
              "                 coef    std err          t      P>|t|      95.0% Conf. Int.\n",
              "----------------------------------------------------------------------------\n",
              "omega          0.0109  3.004e-03      3.640  2.724e-04 [5.048e-03,1.682e-02]\n",
              "alpha[1]       0.0835  1.071e-02      7.794  6.476e-15   [6.249e-02,  0.104]\n",
              "beta[1]        0.9089  1.148e-02     79.168      0.000     [  0.886,  0.931]\n",
              "============================================================================\n",
              "\n",
              "Covariance estimator: robust\n",
              "\"\"\""
            ]
          },
          "metadata": {
            "tags": []
          },
          "execution_count": 10
        }
      ]
    },
    {
      "cell_type": "markdown",
      "metadata": {
        "id": "D_b-RpfRGUtr",
        "colab_type": "text"
      },
      "source": [
        "## Higher-Lag GARCH Models"
      ]
    },
    {
      "cell_type": "code",
      "metadata": {
        "id": "XTbS1Q6LGUtr",
        "colab_type": "code",
        "colab": {
          "base_uri": "https://localhost:8080/",
          "height": 555
        },
        "outputId": "303b635a-8cb8-4099-cfba-c9d57feb7b3e"
      },
      "source": [
        "model_garch_1_2 = arch_model(df.returns[1:], mean = \"Constant\",  vol = \"GARCH\", p = 1, q = 2)\n",
        "results_garch_1_2 = model_garch_1_2.fit(update_freq = 5)\n",
        "results_garch_1_2.summary()"
      ],
      "execution_count": 11,
      "outputs": [
        {
          "output_type": "stream",
          "text": [
            "Iteration:      5,   Func. Count:     44,   Neg. LLF: 6978.593923736482\n",
            "Iteration:     10,   Func. Count:     80,   Neg. LLF: 6970.0636014211605\n",
            "Optimization terminated successfully.    (Exit mode 0)\n",
            "            Current function value: 6970.058366532263\n",
            "            Iterations: 12\n",
            "            Function evaluations: 95\n",
            "            Gradient evaluations: 12\n"
          ],
          "name": "stdout"
        },
        {
          "output_type": "execute_result",
          "data": {
            "text/html": [
              "<table class=\"simpletable\">\n",
              "<caption>Constant Mean - GARCH Model Results</caption>\n",
              "<tr>\n",
              "  <th>Dep. Variable:</th>       <td>returns</td>      <th>  R-squared:         </th>  <td>  -0.001</td> \n",
              "</tr>\n",
              "<tr>\n",
              "  <th>Mean Model:</th>       <td>Constant Mean</td>   <th>  Adj. R-squared:    </th>  <td>  -0.001</td> \n",
              "</tr>\n",
              "<tr>\n",
              "  <th>Vol Model:</th>            <td>GARCH</td>       <th>  Log-Likelihood:    </th> <td>  -6970.06</td>\n",
              "</tr>\n",
              "<tr>\n",
              "  <th>Distribution:</th>        <td>Normal</td>       <th>  AIC:               </th> <td>   13950.1</td>\n",
              "</tr>\n",
              "<tr>\n",
              "  <th>Method:</th>        <td>Maximum Likelihood</td> <th>  BIC:               </th> <td>   13982.7</td>\n",
              "</tr>\n",
              "<tr>\n",
              "  <th></th>                        <td></td>          <th>  No. Observations:  </th>    <td>5020</td>   \n",
              "</tr>\n",
              "<tr>\n",
              "  <th>Date:</th>           <td>Thu, Apr 23 2020</td>  <th>  Df Residuals:      </th>    <td>5015</td>   \n",
              "</tr>\n",
              "<tr>\n",
              "  <th>Time:</th>               <td>12:55:11</td>      <th>  Df Model:          </th>      <td>5</td>    \n",
              "</tr>\n",
              "</table>\n",
              "<table class=\"simpletable\">\n",
              "<caption>Mean Model</caption>\n",
              "<tr>\n",
              "   <td></td>     <th>coef</th>     <th>std err</th>      <th>t</th>       <th>P>|t|</th>     <th>95.0% Conf. Int.</th>   \n",
              "</tr>\n",
              "<tr>\n",
              "  <th>mu</th> <td>    0.0466</td> <td>1.184e-02</td> <td>    3.938</td> <td>8.219e-05</td> <td>[2.341e-02,6.982e-02]</td>\n",
              "</tr>\n",
              "</table>\n",
              "<table class=\"simpletable\">\n",
              "<caption>Volatility Model</caption>\n",
              "<tr>\n",
              "      <td></td>        <th>coef</th>     <th>std err</th>      <th>t</th>       <th>P>|t|</th>     <th>95.0% Conf. Int.</th>   \n",
              "</tr>\n",
              "<tr>\n",
              "  <th>omega</th>    <td>    0.0109</td> <td>2.908e-03</td> <td>    3.761</td> <td>1.696e-04</td> <td>[5.236e-03,1.663e-02]</td>\n",
              "</tr>\n",
              "<tr>\n",
              "  <th>alpha[1]</th> <td>    0.0835</td> <td>1.189e-02</td> <td>    7.019</td> <td>2.233e-12</td>  <td>[6.017e-02,  0.107]</td> \n",
              "</tr>\n",
              "<tr>\n",
              "  <th>beta[1]</th>  <td>    0.9089</td> <td>    0.188</td> <td>    4.845</td> <td>1.269e-06</td>   <td>[  0.541,  1.277]</td>  \n",
              "</tr>\n",
              "<tr>\n",
              "  <th>beta[2]</th>  <td>2.8691e-08</td> <td>    0.180</td> <td>1.596e-07</td> <td>    1.000</td>   <td>[ -0.352,  0.352]</td>  \n",
              "</tr>\n",
              "</table><br/><br/>Covariance estimator: robust"
            ],
            "text/plain": [
              "<class 'statsmodels.iolib.summary.Summary'>\n",
              "\"\"\"\n",
              "                     Constant Mean - GARCH Model Results                      \n",
              "==============================================================================\n",
              "Dep. Variable:                returns   R-squared:                      -0.001\n",
              "Mean Model:             Constant Mean   Adj. R-squared:                 -0.001\n",
              "Vol Model:                      GARCH   Log-Likelihood:               -6970.06\n",
              "Distribution:                  Normal   AIC:                           13950.1\n",
              "Method:            Maximum Likelihood   BIC:                           13982.7\n",
              "                                        No. Observations:                 5020\n",
              "Date:                Thu, Apr 23 2020   Df Residuals:                     5015\n",
              "Time:                        12:55:11   Df Model:                            5\n",
              "                                 Mean Model                                 \n",
              "============================================================================\n",
              "                 coef    std err          t      P>|t|      95.0% Conf. Int.\n",
              "----------------------------------------------------------------------------\n",
              "mu             0.0466  1.184e-02      3.938  8.219e-05 [2.341e-02,6.982e-02]\n",
              "                              Volatility Model                              \n",
              "============================================================================\n",
              "                 coef    std err          t      P>|t|      95.0% Conf. Int.\n",
              "----------------------------------------------------------------------------\n",
              "omega          0.0109  2.908e-03      3.761  1.696e-04 [5.236e-03,1.663e-02]\n",
              "alpha[1]       0.0835  1.189e-02      7.019  2.233e-12   [6.017e-02,  0.107]\n",
              "beta[1]        0.9089      0.188      4.845  1.269e-06     [  0.541,  1.277]\n",
              "beta[2]    2.8691e-08      0.180  1.596e-07      1.000     [ -0.352,  0.352]\n",
              "============================================================================\n",
              "\n",
              "Covariance estimator: robust\n",
              "\"\"\""
            ]
          },
          "metadata": {
            "tags": []
          },
          "execution_count": 11
        }
      ]
    },
    {
      "cell_type": "code",
      "metadata": {
        "id": "XYQQ0aSZGUtu",
        "colab_type": "code",
        "colab": {
          "base_uri": "https://localhost:8080/",
          "height": 593
        },
        "outputId": "d4d2d1c5-ec31-4a58-9195-c001d022f92b"
      },
      "source": [
        "model_garch_1_3 = arch_model(df.returns[1:], mean = \"Constant\",  vol = \"GARCH\", p = 1, q = 3)\n",
        "results_garch_1_3 = model_garch_1_3.fit(update_freq = 5)\n",
        "results_garch_1_3.summary()"
      ],
      "execution_count": 12,
      "outputs": [
        {
          "output_type": "stream",
          "text": [
            "Iteration:      5,   Func. Count:     51,   Neg. LLF: 6993.438671672955\n",
            "Iteration:     10,   Func. Count:     97,   Neg. LLF: 6972.43122640995\n",
            "Iteration:     15,   Func. Count:    138,   Neg. LLF: 6970.058672188265\n",
            "Optimization terminated successfully.    (Exit mode 0)\n",
            "            Current function value: 6970.058366230191\n",
            "            Iterations: 17\n",
            "            Function evaluations: 154\n",
            "            Gradient evaluations: 17\n"
          ],
          "name": "stdout"
        },
        {
          "output_type": "execute_result",
          "data": {
            "text/html": [
              "<table class=\"simpletable\">\n",
              "<caption>Constant Mean - GARCH Model Results</caption>\n",
              "<tr>\n",
              "  <th>Dep. Variable:</th>       <td>returns</td>      <th>  R-squared:         </th>  <td>  -0.001</td> \n",
              "</tr>\n",
              "<tr>\n",
              "  <th>Mean Model:</th>       <td>Constant Mean</td>   <th>  Adj. R-squared:    </th>  <td>  -0.001</td> \n",
              "</tr>\n",
              "<tr>\n",
              "  <th>Vol Model:</th>            <td>GARCH</td>       <th>  Log-Likelihood:    </th> <td>  -6970.06</td>\n",
              "</tr>\n",
              "<tr>\n",
              "  <th>Distribution:</th>        <td>Normal</td>       <th>  AIC:               </th> <td>   13952.1</td>\n",
              "</tr>\n",
              "<tr>\n",
              "  <th>Method:</th>        <td>Maximum Likelihood</td> <th>  BIC:               </th> <td>   13991.2</td>\n",
              "</tr>\n",
              "<tr>\n",
              "  <th></th>                        <td></td>          <th>  No. Observations:  </th>    <td>5020</td>   \n",
              "</tr>\n",
              "<tr>\n",
              "  <th>Date:</th>           <td>Thu, Apr 23 2020</td>  <th>  Df Residuals:      </th>    <td>5014</td>   \n",
              "</tr>\n",
              "<tr>\n",
              "  <th>Time:</th>               <td>12:55:13</td>      <th>  Df Model:          </th>      <td>6</td>    \n",
              "</tr>\n",
              "</table>\n",
              "<table class=\"simpletable\">\n",
              "<caption>Mean Model</caption>\n",
              "<tr>\n",
              "   <td></td>     <th>coef</th>     <th>std err</th>      <th>t</th>       <th>P>|t|</th>     <th>95.0% Conf. Int.</th>   \n",
              "</tr>\n",
              "<tr>\n",
              "  <th>mu</th> <td>    0.0466</td> <td>1.179e-02</td> <td>    3.954</td> <td>7.685e-05</td> <td>[2.351e-02,6.972e-02]</td>\n",
              "</tr>\n",
              "</table>\n",
              "<table class=\"simpletable\">\n",
              "<caption>Volatility Model</caption>\n",
              "<tr>\n",
              "      <td></td>        <th>coef</th>     <th>std err</th>      <th>t</th>       <th>P>|t|</th>      <th>95.0% Conf. Int.</th>   \n",
              "</tr>\n",
              "<tr>\n",
              "  <th>omega</th>    <td>    0.0109</td> <td>8.135e-03</td> <td>    1.344</td> <td>    0.179</td> <td>[-5.009e-03,2.688e-02]</td>\n",
              "</tr>\n",
              "<tr>\n",
              "  <th>alpha[1]</th> <td>    0.0835</td> <td>6.042e-02</td> <td>    1.382</td> <td>    0.167</td>  <td>[-3.494e-02,  0.202]</td> \n",
              "</tr>\n",
              "<tr>\n",
              "  <th>beta[1]</th>  <td>    0.9089</td> <td>    2.142</td> <td>    0.424</td> <td>    0.671</td>    <td>[ -3.289,  5.106]</td>  \n",
              "</tr>\n",
              "<tr>\n",
              "  <th>beta[2]</th>    <td>0.0000</td>   <td>    3.365</td>   <td>0.000</td>   <td>    1.000</td>    <td>[ -6.594,  6.594]</td>  \n",
              "</tr>\n",
              "<tr>\n",
              "  <th>beta[3]</th>  <td>6.3825e-13</td> <td>    1.290</td> <td>4.948e-13</td> <td>    1.000</td>    <td>[ -2.528,  2.528]</td>  \n",
              "</tr>\n",
              "</table><br/><br/>Covariance estimator: robust"
            ],
            "text/plain": [
              "<class 'statsmodels.iolib.summary.Summary'>\n",
              "\"\"\"\n",
              "                     Constant Mean - GARCH Model Results                      \n",
              "==============================================================================\n",
              "Dep. Variable:                returns   R-squared:                      -0.001\n",
              "Mean Model:             Constant Mean   Adj. R-squared:                 -0.001\n",
              "Vol Model:                      GARCH   Log-Likelihood:               -6970.06\n",
              "Distribution:                  Normal   AIC:                           13952.1\n",
              "Method:            Maximum Likelihood   BIC:                           13991.2\n",
              "                                        No. Observations:                 5020\n",
              "Date:                Thu, Apr 23 2020   Df Residuals:                     5014\n",
              "Time:                        12:55:13   Df Model:                            6\n",
              "                                 Mean Model                                 \n",
              "============================================================================\n",
              "                 coef    std err          t      P>|t|      95.0% Conf. Int.\n",
              "----------------------------------------------------------------------------\n",
              "mu             0.0466  1.179e-02      3.954  7.685e-05 [2.351e-02,6.972e-02]\n",
              "                               Volatility Model                              \n",
              "=============================================================================\n",
              "                 coef    std err          t      P>|t|       95.0% Conf. Int.\n",
              "-----------------------------------------------------------------------------\n",
              "omega          0.0109  8.135e-03      1.344      0.179 [-5.009e-03,2.688e-02]\n",
              "alpha[1]       0.0835  6.042e-02      1.382      0.167   [-3.494e-02,  0.202]\n",
              "beta[1]        0.9089      2.142      0.424      0.671      [ -3.289,  5.106]\n",
              "beta[2]        0.0000      3.365      0.000      1.000      [ -6.594,  6.594]\n",
              "beta[3]    6.3825e-13      1.290  4.948e-13      1.000      [ -2.528,  2.528]\n",
              "=============================================================================\n",
              "\n",
              "Covariance estimator: robust\n",
              "\"\"\""
            ]
          },
          "metadata": {
            "tags": []
          },
          "execution_count": 12
        }
      ]
    },
    {
      "cell_type": "code",
      "metadata": {
        "id": "iVn5AUV5GUtx",
        "colab_type": "code",
        "colab": {
          "base_uri": "https://localhost:8080/",
          "height": 555
        },
        "outputId": "69a53fe3-4144-490a-85c5-5c9c5b707845"
      },
      "source": [
        "model_garch_2_1 = arch_model(df.returns[1:], mean = \"Constant\",  vol = \"GARCH\", p = 2, q = 1)\n",
        "results_garch_2_1 = model_garch_2_1.fit(update_freq = 5)\n",
        "results_garch_2_1.summary()"
      ],
      "execution_count": 13,
      "outputs": [
        {
          "output_type": "stream",
          "text": [
            "Iteration:      5,   Func. Count:     44,   Neg. LLF: 6973.212488591025\n",
            "Iteration:     10,   Func. Count:     85,   Neg. LLF: 6967.735893361717\n",
            "Optimization terminated successfully.    (Exit mode 0)\n",
            "            Current function value: 6967.731020076013\n",
            "            Iterations: 12\n",
            "            Function evaluations: 99\n",
            "            Gradient evaluations: 12\n"
          ],
          "name": "stdout"
        },
        {
          "output_type": "execute_result",
          "data": {
            "text/html": [
              "<table class=\"simpletable\">\n",
              "<caption>Constant Mean - GARCH Model Results</caption>\n",
              "<tr>\n",
              "  <th>Dep. Variable:</th>       <td>returns</td>      <th>  R-squared:         </th>  <td>  -0.001</td> \n",
              "</tr>\n",
              "<tr>\n",
              "  <th>Mean Model:</th>       <td>Constant Mean</td>   <th>  Adj. R-squared:    </th>  <td>  -0.001</td> \n",
              "</tr>\n",
              "<tr>\n",
              "  <th>Vol Model:</th>            <td>GARCH</td>       <th>  Log-Likelihood:    </th> <td>  -6967.73</td>\n",
              "</tr>\n",
              "<tr>\n",
              "  <th>Distribution:</th>        <td>Normal</td>       <th>  AIC:               </th> <td>   13945.5</td>\n",
              "</tr>\n",
              "<tr>\n",
              "  <th>Method:</th>        <td>Maximum Likelihood</td> <th>  BIC:               </th> <td>   13978.1</td>\n",
              "</tr>\n",
              "<tr>\n",
              "  <th></th>                        <td></td>          <th>  No. Observations:  </th>    <td>5020</td>   \n",
              "</tr>\n",
              "<tr>\n",
              "  <th>Date:</th>           <td>Thu, Apr 23 2020</td>  <th>  Df Residuals:      </th>    <td>5015</td>   \n",
              "</tr>\n",
              "<tr>\n",
              "  <th>Time:</th>               <td>12:55:16</td>      <th>  Df Model:          </th>      <td>5</td>    \n",
              "</tr>\n",
              "</table>\n",
              "<table class=\"simpletable\">\n",
              "<caption>Mean Model</caption>\n",
              "<tr>\n",
              "   <td></td>     <th>coef</th>     <th>std err</th>      <th>t</th>       <th>P>|t|</th>     <th>95.0% Conf. Int.</th>   \n",
              "</tr>\n",
              "<tr>\n",
              "  <th>mu</th> <td>    0.0466</td> <td>1.187e-02</td> <td>    3.922</td> <td>8.780e-05</td> <td>[2.329e-02,6.982e-02]</td>\n",
              "</tr>\n",
              "</table>\n",
              "<table class=\"simpletable\">\n",
              "<caption>Volatility Model</caption>\n",
              "<tr>\n",
              "      <td></td>        <th>coef</th>     <th>std err</th>      <th>t</th>       <th>P>|t|</th>      <th>95.0% Conf. Int.</th>   \n",
              "</tr>\n",
              "<tr>\n",
              "  <th>omega</th>    <td>    0.0129</td> <td>4.097e-03</td> <td>    3.158</td> <td>1.589e-03</td>  <td>[4.908e-03,2.097e-02]</td>\n",
              "</tr>\n",
              "<tr>\n",
              "  <th>alpha[1]</th> <td>    0.0547</td> <td>1.665e-02</td> <td>    3.286</td> <td>1.017e-03</td>  <td>[2.208e-02,8.735e-02]</td>\n",
              "</tr>\n",
              "<tr>\n",
              "  <th>alpha[2]</th> <td>    0.0389</td> <td>2.345e-02</td> <td>    1.659</td> <td>9.709e-02</td> <td>[-7.056e-03,8.488e-02]</td>\n",
              "</tr>\n",
              "<tr>\n",
              "  <th>beta[1]</th>  <td>    0.8974</td> <td>1.712e-02</td> <td>   52.415</td>   <td>0.000</td>      <td>[  0.864,  0.931]</td>  \n",
              "</tr>\n",
              "</table><br/><br/>Covariance estimator: robust"
            ],
            "text/plain": [
              "<class 'statsmodels.iolib.summary.Summary'>\n",
              "\"\"\"\n",
              "                     Constant Mean - GARCH Model Results                      \n",
              "==============================================================================\n",
              "Dep. Variable:                returns   R-squared:                      -0.001\n",
              "Mean Model:             Constant Mean   Adj. R-squared:                 -0.001\n",
              "Vol Model:                      GARCH   Log-Likelihood:               -6967.73\n",
              "Distribution:                  Normal   AIC:                           13945.5\n",
              "Method:            Maximum Likelihood   BIC:                           13978.1\n",
              "                                        No. Observations:                 5020\n",
              "Date:                Thu, Apr 23 2020   Df Residuals:                     5015\n",
              "Time:                        12:55:16   Df Model:                            5\n",
              "                                 Mean Model                                 \n",
              "============================================================================\n",
              "                 coef    std err          t      P>|t|      95.0% Conf. Int.\n",
              "----------------------------------------------------------------------------\n",
              "mu             0.0466  1.187e-02      3.922  8.780e-05 [2.329e-02,6.982e-02]\n",
              "                               Volatility Model                              \n",
              "=============================================================================\n",
              "                 coef    std err          t      P>|t|       95.0% Conf. Int.\n",
              "-----------------------------------------------------------------------------\n",
              "omega          0.0129  4.097e-03      3.158  1.589e-03  [4.908e-03,2.097e-02]\n",
              "alpha[1]       0.0547  1.665e-02      3.286  1.017e-03  [2.208e-02,8.735e-02]\n",
              "alpha[2]       0.0389  2.345e-02      1.659  9.709e-02 [-7.056e-03,8.488e-02]\n",
              "beta[1]        0.8974  1.712e-02     52.415      0.000      [  0.864,  0.931]\n",
              "=============================================================================\n",
              "\n",
              "Covariance estimator: robust\n",
              "\"\"\""
            ]
          },
          "metadata": {
            "tags": []
          },
          "execution_count": 13
        }
      ]
    },
    {
      "cell_type": "code",
      "metadata": {
        "id": "3yc8Kd90GUtz",
        "colab_type": "code",
        "colab": {
          "base_uri": "https://localhost:8080/",
          "height": 593
        },
        "outputId": "c4a73a9f-7960-4e32-eaa2-defc471135ce"
      },
      "source": [
        "model_garch_3_1 = arch_model(df.returns[1:], mean = \"Constant\",  vol = \"GARCH\", p = 3, q = 1)\n",
        "results_garch_3_1 = model_garch_3_1.fit(update_freq = 5)\n",
        "results_garch_3_1.summary()"
      ],
      "execution_count": 14,
      "outputs": [
        {
          "output_type": "stream",
          "text": [
            "Iteration:      5,   Func. Count:     49,   Neg. LLF: 6974.886816187958\n",
            "Iteration:     10,   Func. Count:     94,   Neg. LLF: 6968.53820803195\n",
            "Iteration:     15,   Func. Count:    134,   Neg. LLF: 6967.731020048997\n",
            "Optimization terminated successfully.    (Exit mode 0)\n",
            "            Current function value: 6967.731020049635\n",
            "            Iterations: 15\n",
            "            Function evaluations: 134\n",
            "            Gradient evaluations: 15\n"
          ],
          "name": "stdout"
        },
        {
          "output_type": "execute_result",
          "data": {
            "text/html": [
              "<table class=\"simpletable\">\n",
              "<caption>Constant Mean - GARCH Model Results</caption>\n",
              "<tr>\n",
              "  <th>Dep. Variable:</th>       <td>returns</td>      <th>  R-squared:         </th>  <td>  -0.001</td> \n",
              "</tr>\n",
              "<tr>\n",
              "  <th>Mean Model:</th>       <td>Constant Mean</td>   <th>  Adj. R-squared:    </th>  <td>  -0.001</td> \n",
              "</tr>\n",
              "<tr>\n",
              "  <th>Vol Model:</th>            <td>GARCH</td>       <th>  Log-Likelihood:    </th> <td>  -6967.73</td>\n",
              "</tr>\n",
              "<tr>\n",
              "  <th>Distribution:</th>        <td>Normal</td>       <th>  AIC:               </th> <td>   13947.5</td>\n",
              "</tr>\n",
              "<tr>\n",
              "  <th>Method:</th>        <td>Maximum Likelihood</td> <th>  BIC:               </th> <td>   13986.6</td>\n",
              "</tr>\n",
              "<tr>\n",
              "  <th></th>                        <td></td>          <th>  No. Observations:  </th>    <td>5020</td>   \n",
              "</tr>\n",
              "<tr>\n",
              "  <th>Date:</th>           <td>Thu, Apr 23 2020</td>  <th>  Df Residuals:      </th>    <td>5014</td>   \n",
              "</tr>\n",
              "<tr>\n",
              "  <th>Time:</th>               <td>12:55:19</td>      <th>  Df Model:          </th>      <td>6</td>    \n",
              "</tr>\n",
              "</table>\n",
              "<table class=\"simpletable\">\n",
              "<caption>Mean Model</caption>\n",
              "<tr>\n",
              "   <td></td>     <th>coef</th>     <th>std err</th>      <th>t</th>       <th>P>|t|</th>     <th>95.0% Conf. Int.</th>   \n",
              "</tr>\n",
              "<tr>\n",
              "  <th>mu</th> <td>    0.0466</td> <td>1.187e-02</td> <td>    3.924</td> <td>8.721e-05</td> <td>[2.330e-02,6.982e-02]</td>\n",
              "</tr>\n",
              "</table>\n",
              "<table class=\"simpletable\">\n",
              "<caption>Volatility Model</caption>\n",
              "<tr>\n",
              "      <td></td>        <th>coef</th>     <th>std err</th>      <th>t</th>       <th>P>|t|</th>      <th>95.0% Conf. Int.</th>   \n",
              "</tr>\n",
              "<tr>\n",
              "  <th>omega</th>    <td>    0.0129</td> <td>4.816e-03</td> <td>    2.687</td> <td>7.217e-03</td>  <td>[3.500e-03,2.238e-02]</td>\n",
              "</tr>\n",
              "<tr>\n",
              "  <th>alpha[1]</th> <td>    0.0547</td> <td>1.665e-02</td> <td>    3.285</td> <td>1.019e-03</td>  <td>[2.207e-02,8.736e-02]</td>\n",
              "</tr>\n",
              "<tr>\n",
              "  <th>alpha[2]</th> <td>    0.0389</td> <td>2.505e-02</td> <td>    1.553</td> <td>    0.120</td> <td>[-1.018e-02,8.800e-02]</td>\n",
              "</tr>\n",
              "<tr>\n",
              "  <th>alpha[3]</th>   <td>0.0000</td>   <td>2.572e-02</td>   <td>0.000</td>   <td>    1.000</td> <td>[-5.041e-02,5.041e-02]</td>\n",
              "</tr>\n",
              "<tr>\n",
              "  <th>beta[1]</th>  <td>    0.8974</td> <td>2.245e-02</td> <td>   39.978</td>   <td>0.000</td>      <td>[  0.853,  0.941]</td>  \n",
              "</tr>\n",
              "</table><br/><br/>Covariance estimator: robust"
            ],
            "text/plain": [
              "<class 'statsmodels.iolib.summary.Summary'>\n",
              "\"\"\"\n",
              "                     Constant Mean - GARCH Model Results                      \n",
              "==============================================================================\n",
              "Dep. Variable:                returns   R-squared:                      -0.001\n",
              "Mean Model:             Constant Mean   Adj. R-squared:                 -0.001\n",
              "Vol Model:                      GARCH   Log-Likelihood:               -6967.73\n",
              "Distribution:                  Normal   AIC:                           13947.5\n",
              "Method:            Maximum Likelihood   BIC:                           13986.6\n",
              "                                        No. Observations:                 5020\n",
              "Date:                Thu, Apr 23 2020   Df Residuals:                     5014\n",
              "Time:                        12:55:19   Df Model:                            6\n",
              "                                 Mean Model                                 \n",
              "============================================================================\n",
              "                 coef    std err          t      P>|t|      95.0% Conf. Int.\n",
              "----------------------------------------------------------------------------\n",
              "mu             0.0466  1.187e-02      3.924  8.721e-05 [2.330e-02,6.982e-02]\n",
              "                               Volatility Model                              \n",
              "=============================================================================\n",
              "                 coef    std err          t      P>|t|       95.0% Conf. Int.\n",
              "-----------------------------------------------------------------------------\n",
              "omega          0.0129  4.816e-03      2.687  7.217e-03  [3.500e-03,2.238e-02]\n",
              "alpha[1]       0.0547  1.665e-02      3.285  1.019e-03  [2.207e-02,8.736e-02]\n",
              "alpha[2]       0.0389  2.505e-02      1.553      0.120 [-1.018e-02,8.800e-02]\n",
              "alpha[3]       0.0000  2.572e-02      0.000      1.000 [-5.041e-02,5.041e-02]\n",
              "beta[1]        0.8974  2.245e-02     39.978      0.000      [  0.853,  0.941]\n",
              "=============================================================================\n",
              "\n",
              "Covariance estimator: robust\n",
              "\"\"\""
            ]
          },
          "metadata": {
            "tags": []
          },
          "execution_count": 14
        }
      ]
    }
  ]
}